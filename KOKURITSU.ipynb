{
  "nbformat": 4,
  "nbformat_minor": 0,
  "metadata": {
    "colab": {
      "name": "KOKURITSU.ipynb",
      "provenance": [],
      "collapsed_sections": [],
      "toc_visible": true,
      "authorship_tag": "ABX9TyPQTyAlw9qs8cwtZqLdV7oN",
      "include_colab_link": true
    },
    "kernelspec": {
      "name": "python3",
      "display_name": "Python 3"
    },
    "accelerator": "GPU"
  },
  "cells": [
    {
      "cell_type": "markdown",
      "metadata": {
        "id": "view-in-github",
        "colab_type": "text"
      },
      "source": [
        "<a href=\"https://colab.research.google.com/github/nekoradiation/National-Diet-Library/blob/master/KOKURITSU.ipynb\" target=\"_parent\"><img src=\"https://colab.research.google.com/assets/colab-badge.svg\" alt=\"Open In Colab\"/></a>"
      ]
    },
    {
      "cell_type": "markdown",
      "metadata": {
        "id": "fYNAkiKmnKXi",
        "colab_type": "text"
      },
      "source": [
        "# 概要\n",
        "\n",
        "# 1.   データの種類と評価方法\n",
        "\n",
        "> 詳しくはHP参照（https://signate.jp/competitions/218）\n",
        "*    資料画像に対して、予測対象のレイアウトラベルを含む矩形領域を、bounding box =(x1, y1, x2, y2) として割り当て、且つラベルの1つを付与。\n",
        "*    各画像には、1つ以上の bounding boxが割り当てらる。\n",
        "*    bounding box は画像の左上を原点（0,0）とし、オブジェクト領域の左上の座標（x1, y1）、右下の座標（x2, y2）の4つを指定することで表現される。\n",
        "*    予測対象となるレイアウトラベルは、「古典籍資料」と「明治期以降刊行資料」で異なるため注意。\n",
        "\n",
        "# 1.1 評価方法\n",
        "\n",
        "\n",
        "> 評価対象（予測対象）となるレイアウトラベル\n",
        "（ラベル名\t説明）\n",
        "*    1_overall\t資料範囲全体\n",
        "*    2_handwritten\tくずし字の文字ライン\n",
        "*    3_typography\tくずし字以外の文字ライン\n",
        "*    4_illustration\tイラスト（写真含む）\n",
        "*    5_stamp\t印影（蔵書印等）\n",
        "*    6_headline\t見出し\n",
        "*    7_caption\t図表見出し\n",
        "*    8_textline\t6_headline, 7_caption 以外の文字ライン\n",
        "\n",
        "> ※ラベル「9_table（表）」は、学習用データセットには含まれますが、評価対象（予測対象）からは外します。\n",
        "\n",
        "\n",
        "# 1.1.1 評価関数\n",
        "*    評価関数「mean IoU」を使用します。\n",
        "*    評価値は0～1の値をとり、精度が高いほど大きな値となります。\n",
        "\n",
        "\n",
        "![image.png](data:image/png;base64,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)\n",
        "\n",
        "> 評価関数の詳細\n",
        "*    ①全ラベルの予測領域と正解領域（矩形）の重なり（IoU）を計算\n",
        "*    ②各画像に対して、ラベル毎の平均IoUを計算\n",
        "*    ③各画像に対して、画像毎の平均IoU（②の平均値）を計算\n",
        "*    ④評価対象の全画像の平均IoU（③の平均値）を計算\n",
        "\n",
        "\n",
        "\n",
        "\n",
        "\n",
        "# 2.   今回とる手法\n",
        "\n",
        "    *   手法A\n",
        "    *   手法B\n",
        "# 3.   どうしよっかな\n",
        "# 4.   思いつかないな\n",
        "\n",
        "\n",
        "\n",
        "\n",
        "\n",
        "\n"
      ]
    },
    {
      "cell_type": "markdown",
      "metadata": {
        "id": "bJlU5NI0mtjm",
        "colab_type": "text"
      },
      "source": [
        "# 前準備"
      ]
    },
    {
      "cell_type": "code",
      "metadata": {
        "id": "Op8bax2Cg7fp",
        "colab_type": "code",
        "outputId": "a205f4a7-522c-48c4-b7a5-5ffb11c2b104",
        "colab": {
          "base_uri": "https://localhost:8080/",
          "height": 125
        }
      },
      "source": [
        "#Driveへ接続\n",
        "from google.colab import drive\n",
        "drive.mount('/content/gdrive')"
      ],
      "execution_count": 1,
      "outputs": [
        {
          "output_type": "stream",
          "text": [
            "Go to this URL in a browser: https://accounts.google.com/o/oauth2/auth?client_id=947318989803-6bn6qk8qdgf4n4g3pfee6491hc0brc4i.apps.googleusercontent.com&redirect_uri=urn%3aietf%3awg%3aoauth%3a2.0%3aoob&response_type=code&scope=email%20https%3a%2f%2fwww.googleapis.com%2fauth%2fdocs.test%20https%3a%2f%2fwww.googleapis.com%2fauth%2fdrive%20https%3a%2f%2fwww.googleapis.com%2fauth%2fdrive.photos.readonly%20https%3a%2f%2fwww.googleapis.com%2fauth%2fpeopleapi.readonly\n",
            "\n",
            "Enter your authorization code:\n",
            "··········\n",
            "Mounted at /content/gdrive\n"
          ],
          "name": "stdout"
        }
      ]
    },
    {
      "cell_type": "markdown",
      "metadata": {
        "id": "xBjd8sMXm0JJ",
        "colab_type": "text"
      },
      "source": [
        "# データの読み込み\n",
        "\n",
        "\n"
      ]
    },
    {
      "cell_type": "code",
      "metadata": {
        "id": "kjud_kKliovQ",
        "colab_type": "code",
        "colab": {}
      },
      "source": [
        ""
      ],
      "execution_count": 0,
      "outputs": []
    }
  ]
}